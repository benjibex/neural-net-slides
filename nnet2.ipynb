{
 "cells": [
  {
   "cell_type": "code",
   "execution_count": 9,
   "metadata": {
    "collapsed": true
   },
   "outputs": [],
   "source": [
    "import matplotlib.pyplot as plt\n",
    "import matplotlib\n",
    "%matplotlib inline"
   ]
  },
  {
   "cell_type": "markdown",
   "metadata": {},
   "source": [
    "Suppose we are interested in whether \n",
    "\n",
    "* John\n",
    "* Jane\n",
    "* Johnny\n",
    "* Janie\n",
    "\n",
    "Will order takeaway for dinner tonight - \n",
    "\n",
    "Let us try to build a simple neural network (by hand) to answer these questions!\n",
    "\n",
    "----\n"
   ]
  },
  {
   "cell_type": "markdown",
   "metadata": {},
   "source": [
    "John only orders delivery when it is raining and he has no car\n",
    "\n",
    "| Raining? | No Car?    | Orders Delivery |\n",
    "|----------|------------|-----------------|\n",
    "|  yes     | yes        | yes             |\n",
    "|  yes     | no         | no              |\n",
    "|  no      | yes        | no              |\n",
    "|  no      | no         | no              |\n",
    "\n",
    "\n",
    "Jane on the other hand will order delivery if it is raining or she has no car\n",
    "\n",
    "\n",
    "| Raining? | No Car?    | Orders Delivery |\n",
    "|----------|------------|-----------------|\n",
    "|  yes     | yes        | yes             |\n",
    "|  yes     | no         | yes             |\n",
    "|  no      | yes        | yes             |\n",
    "|  no      | no         | no              |\n",
    "\n",
    "Johnny always orders delivery when there is no car.\n",
    "\n",
    "| Raining? | No Car?    | Orders Delivery |\n",
    "|----------|------------|-----------------|\n",
    "|  yes     | yes        | yes             |\n",
    "|  yes     | no         | no              |\n",
    "|  no      | yes        | yes             |\n",
    "|  no      | no         | no              |\n",
    "\n",
    "Janie orders delivery when it is raining or has no car, but not when both events happen\n",
    "\n",
    "| Raining? | No Car?    | Orders Delivery |\n",
    "|----------|------------|-----------------|\n",
    "|  yes     | yes        | no              |\n",
    "|  yes     | no         | yes             |\n",
    "|  no      | yes        | yes             |\n",
    "|  no      | no         | no              |"
   ]
  },
  {
   "cell_type": "markdown",
   "metadata": {},
   "source": [
    "----\n",
    "\n",
    "If we convert it to numbers so that we can graph it it would look like:\n",
    "\n",
    "John only orders delivery when it is raining and he has no car\n",
    "\n",
    "| Raining? | No  Car?   | Orders Delivery |\n",
    "|----------|------------|-----------------|\n",
    "|  1       | 1          | 1               |\n",
    "|  1       | 0          | 0               |\n",
    "|  0       | 1          | 0               |\n",
    "|  0       | 0          | 0               |\n",
    "\n",
    "\n",
    "Jane on the other hand will order delivery if it is raining or she has no car\n",
    "\n",
    "\n",
    "| Raining? | No Car?    | Orders Delivery |\n",
    "|----------|------------|-----------------|\n",
    "|  1       | 1          | 1               |\n",
    "|  1       | 0          | 1               |\n",
    "|  0       | 1          | 1               |\n",
    "|  0       | 0          | 0               |\n",
    "\n",
    "Johnny always orders delivery when there is no car.\n",
    "\n",
    "| Raining? | No Car?    | Orders Delivery |\n",
    "|----------|------------|-----------------|\n",
    "|  1       | 1          | 1               |\n",
    "|  1       | 0          | 0               |\n",
    "|  0       | 1          | 1               |\n",
    "|  0       | 0          | 0               |\n",
    "\n",
    "Janie orders delivery when it is raining or has no car, but not when both events happen\n",
    "\n",
    "| Raining? | No  Car?   | Orders Delivery |\n",
    "|----------|------------|-----------------|\n",
    "|  1       | 1          | 0               |\n",
    "|  1       | 0          | 1               |\n",
    "|  0       | 1          | 1               |\n",
    "|  0       | 0          | 0               |"
   ]
  },
  {
   "cell_type": "code",
   "execution_count": 10,
   "metadata": {},
   "outputs": [
    {
     "data": {
      "text/html": [
       "<div>\n",
       "<style>\n",
       "    .dataframe thead tr:only-child th {\n",
       "        text-align: right;\n",
       "    }\n",
       "\n",
       "    .dataframe thead th {\n",
       "        text-align: left;\n",
       "    }\n",
       "\n",
       "    .dataframe tbody tr th {\n",
       "        vertical-align: top;\n",
       "    }\n",
       "</style>\n",
       "<table border=\"1\" class=\"dataframe\">\n",
       "  <thead>\n",
       "    <tr style=\"text-align: right;\">\n",
       "      <th></th>\n",
       "      <th>is_rain</th>\n",
       "      <th>no_car</th>\n",
       "    </tr>\n",
       "  </thead>\n",
       "  <tbody>\n",
       "    <tr>\n",
       "      <th>0</th>\n",
       "      <td>1</td>\n",
       "      <td>1</td>\n",
       "    </tr>\n",
       "    <tr>\n",
       "      <th>1</th>\n",
       "      <td>1</td>\n",
       "      <td>0</td>\n",
       "    </tr>\n",
       "    <tr>\n",
       "      <th>2</th>\n",
       "      <td>0</td>\n",
       "      <td>1</td>\n",
       "    </tr>\n",
       "    <tr>\n",
       "      <th>3</th>\n",
       "      <td>0</td>\n",
       "      <td>0</td>\n",
       "    </tr>\n",
       "  </tbody>\n",
       "</table>\n",
       "</div>"
      ],
      "text/plain": [
       "   is_rain  no_car\n",
       "0        1       1\n",
       "1        1       0\n",
       "2        0       1\n",
       "3        0       0"
      ]
     },
     "execution_count": 10,
     "metadata": {},
     "output_type": "execute_result"
    }
   ],
   "source": [
    "# lets plot these points\n",
    "\n",
    "import pandas as pd\n",
    "import numpy as np\n",
    "\n",
    "scenario = pd.DataFrame({\n",
    "    'is_rain':[1,1,0,0],\n",
    "    'no_car': [1,0,1,0]\n",
    "})\n",
    "\n",
    "scenario"
   ]
  },
  {
   "cell_type": "code",
   "execution_count": 11,
   "metadata": {
    "collapsed": true
   },
   "outputs": [],
   "source": [
    "orders_delivery = {\n",
    "    'john': [1,0,0,0],\n",
    "    'jane': [1,1,1,0], \n",
    "    'johnny': [1,0,1,0], \n",
    "    'janie': [0,1,1,0]    \n",
    "}\n"
   ]
  },
  {
   "cell_type": "code",
   "execution_count": 12,
   "metadata": {},
   "outputs": [
    {
     "data": {
      "text/plain": [
       "<matplotlib.text.Text at 0x292b869b4a8>"
      ]
     },
     "execution_count": 12,
     "metadata": {},
     "output_type": "execute_result"
    },
    {
     "data": {
      "image/png": "[encoded data removed]",
      "text/plain": [
       "<matplotlib.figure.Figure at 0x292b8668208>"
      ]
     },
     "metadata": {},
     "output_type": "display_data"
    }
   ],
   "source": [
    "plt.scatter(scenario['is_rain'], scenario['no_car'], c=orders_delivery['john'], cmap='jet', s=1000)\n",
    "plt.title(\"John's Habits\")"
   ]
  },
  {
   "cell_type": "code",
   "execution_count": 13,
   "metadata": {},
   "outputs": [
    {
     "data": {
      "text/plain": [
       "<matplotlib.text.Text at 0x292b8581c50>"
      ]
     },
     "execution_count": 13,
     "metadata": {},
     "output_type": "execute_result"
    },
    {
     "data": {
      "image/png": "[encoded data removed]",
      "text/plain": [
       "<matplotlib.figure.Figure at 0x292b86d95c0>"
      ]
     },
     "metadata": {},
     "output_type": "display_data"
    }
   ],
   "source": [
    "plt.scatter(scenario['is_rain'], scenario['no_car'], c=orders_delivery['jane'], cmap='jet', s=1000)\n",
    "plt.title(\"Jane's Habits\")"
   ]
  },
  {
   "cell_type": "code",
   "execution_count": 14,
   "metadata": {},
   "outputs": [
    {
     "data": {
      "text/plain": [
       "<matplotlib.text.Text at 0x292b87616d8>"
      ]
     },
     "execution_count": 14,
     "metadata": {},
     "output_type": "execute_result"
    },
    {
     "data": {
      "image/png": "[encoded data removed]",
      "text/plain": [
       "<matplotlib.figure.Figure at 0x292b873b908>"
      ]
     },
     "metadata": {},
     "output_type": "display_data"
    }
   ],
   "source": [
    "plt.scatter(scenario['is_rain'], scenario['no_car'], c=orders_delivery['johnny'], cmap='jet', s=1000)\n",
    "plt.title(\"Johnny's Habits\")"
   ]
  },
  {
   "cell_type": "code",
   "execution_count": 15,
   "metadata": {},
   "outputs": [
    {
     "data": {
      "text/plain": [
       "<matplotlib.text.Text at 0x292b87c8160>"
      ]
     },
     "execution_count": 15,
     "metadata": {},
     "output_type": "execute_result"
    },
    {
     "data": {
      "image/png": "[encoded data removed]",
      "text/plain": [
       "<matplotlib.figure.Figure at 0x292b87a0c88>"
      ]
     },
     "metadata": {},
     "output_type": "display_data"
    }
   ],
   "source": [
    "plt.scatter(scenario['is_rain'], scenario['no_car'], c=orders_delivery['janie'], cmap='jet', s=1000)\n",
    "plt.title(\"Janie's Habits\")"
   ]
  },
  {
   "cell_type": "markdown",
   "metadata": {},
   "source": [
    "The goal is to learn a function that takes in `scenario`, and outputs some number which can tell us whether:\n",
    "\n",
    "*  Getting Delivery: (return `1`)\n",
    "*  Not Getting Delivery: (return `0`)\n",
    "\n"
   ]
  },
  {
   "cell_type": "markdown",
   "metadata": {},
   "source": [
    "![nnet](diagram1.png)"
   ]
  },
  {
   "cell_type": "code",
   "execution_count": 65,
   "metadata": {
    "collapsed": true
   },
   "outputs": [],
   "source": [
    "def basic_nnet(X, weights, mode='prediction', add_ones=True):\n",
    "    \"\"\"\n",
    "    X is input\n",
    "    weights is the wieghts for the input\n",
    "    bias is the bias component\n",
    "    \"\"\"\n",
    "    # add our vector of ones\n",
    "    if add_ones:\n",
    "        X = np.hstack([X, np.ones((X.shape[0], 1))])\n",
    "    \n",
    "    raw_output = X.dot(np.array(weights))\n",
    "    if mode == 'prediction':\n",
    "        return (raw_output > 0) * 1\n",
    "    else:\n",
    "        return raw_output"
   ]
  },
  {
   "cell_type": "code",
   "execution_count": 17,
   "metadata": {},
   "outputs": [
    {
     "data": {
      "text/html": [
       "<div>\n",
       "<style>\n",
       "    .dataframe thead tr:only-child th {\n",
       "        text-align: right;\n",
       "    }\n",
       "\n",
       "    .dataframe thead th {\n",
       "        text-align: left;\n",
       "    }\n",
       "\n",
       "    .dataframe tbody tr th {\n",
       "        vertical-align: top;\n",
       "    }\n",
       "</style>\n",
       "<table border=\"1\" class=\"dataframe\">\n",
       "  <thead>\n",
       "    <tr style=\"text-align: right;\">\n",
       "      <th></th>\n",
       "      <th>is_rain</th>\n",
       "      <th>no_car</th>\n",
       "      <th>prediction</th>\n",
       "    </tr>\n",
       "  </thead>\n",
       "  <tbody>\n",
       "    <tr>\n",
       "      <th>0</th>\n",
       "      <td>1</td>\n",
       "      <td>1</td>\n",
       "      <td>1</td>\n",
       "    </tr>\n",
       "    <tr>\n",
       "      <th>1</th>\n",
       "      <td>1</td>\n",
       "      <td>0</td>\n",
       "      <td>0</td>\n",
       "    </tr>\n",
       "    <tr>\n",
       "      <th>2</th>\n",
       "      <td>0</td>\n",
       "      <td>1</td>\n",
       "      <td>0</td>\n",
       "    </tr>\n",
       "    <tr>\n",
       "      <th>3</th>\n",
       "      <td>0</td>\n",
       "      <td>0</td>\n",
       "      <td>0</td>\n",
       "    </tr>\n",
       "  </tbody>\n",
       "</table>\n",
       "</div>"
      ],
      "text/plain": [
       "   is_rain  no_car  prediction\n",
       "0        1       1           1\n",
       "1        1       0           0\n",
       "2        0       1           0\n",
       "3        0       0           0"
      ]
     },
     "execution_count": 17,
     "metadata": {},
     "output_type": "execute_result"
    }
   ],
   "source": [
    "weights = [0.5,0.5,-0.6]\n",
    "john_scen = scenario.copy()\n",
    "john_scen['prediction'] = basic_nnet(scenario, weights)\n",
    "john_scen"
   ]
  },
  {
   "cell_type": "code",
   "execution_count": 18,
   "metadata": {
    "collapsed": true
   },
   "outputs": [],
   "source": [
    "def prediction_region(weights, response):\n",
    "    cdict = {'red':   ((0.0, 0.7, 0.7),\n",
    "                   (1.0, 1.0, 1.0)),\n",
    "         'green': ((0.0, 0.9, 0.9),\n",
    "                   (1.0, 0.9, 0.9)),\n",
    "         'blue':  ((0.0, 1.0, 1.0),\n",
    "                   (1.0, 0.9, 1.0))}\n",
    "    LightRdBu = matplotlib.colors.LinearSegmentedColormap('LightRdBu', cdict)\n",
    "    # do a special plot to view what things look like...\n",
    "    # https://matplotlib.org/examples/pylab_examples/pcolor_demo.html\n",
    "    dd = 0.05\n",
    "    y, x = np.mgrid[slice(-1, 1.5 + dd, dd),\n",
    "                    slice(-1, 1.5 + dd, dd)]\n",
    "    z = (np.array((x*weights[0] + y*weights[1] + weights[2]))>0)*1\n",
    "    # x and y are bounds, so z should be the value *inside* those bounds.\n",
    "    # Therefore, remove the last value from the z array.\n",
    "    z = z[:-1, :-1]    \n",
    "    \n",
    "    plt.pcolor(x, y, z, cmap=LightRdBu, vmin=0, vmax=1)\n",
    "    plt.axis([-.1, 1.1, -0.1, 1.1])\n",
    "    plt.title(\"Prediction Region\")\n",
    "    plt.scatter(scenario['is_rain'], scenario['no_car'], c=response, cmap='jet', s=250)\n",
    "    return plt"
   ]
  },
  {
   "cell_type": "code",
   "execution_count": 19,
   "metadata": {},
   "outputs": [
    {
     "data": {
      "text/plain": [
       "<module 'matplotlib.pyplot' from 'c:\\\\users\\\\chapm\\\\anaconda3\\\\lib\\\\site-packages\\\\matplotlib\\\\pyplot.py'>"
      ]
     },
     "execution_count": 19,
     "metadata": {},
     "output_type": "execute_result"
    },
    {
     "data": {
      "image/png": "[encoded data removed]",
      "text/plain": [
       "<matplotlib.figure.Figure at 0x292b85d6d68>"
      ]
     },
     "metadata": {},
     "output_type": "display_data"
    }
   ],
   "source": [
    "prediction_region([0.5,0.5,-0.6], orders_delivery['john'])"
   ]
  },
  {
   "cell_type": "code",
   "execution_count": 20,
   "metadata": {},
   "outputs": [
    {
     "data": {
      "text/plain": [
       "<module 'matplotlib.pyplot' from 'c:\\\\users\\\\chapm\\\\anaconda3\\\\lib\\\\site-packages\\\\matplotlib\\\\pyplot.py'>"
      ]
     },
     "execution_count": 20,
     "metadata": {},
     "output_type": "execute_result"
    },
    {
     "data": {
      "image/png": "[encoded data removed]",
      "text/plain": [
       "<matplotlib.figure.Figure at 0x292b87c32e8>"
      ]
     },
     "metadata": {},
     "output_type": "display_data"
    }
   ],
   "source": [
    "prediction_region([0.5,0.5,-0.2], orders_delivery['jane'])"
   ]
  },
  {
   "cell_type": "code",
   "execution_count": 21,
   "metadata": {},
   "outputs": [
    {
     "data": {
      "text/plain": [
       "<module 'matplotlib.pyplot' from 'c:\\\\users\\\\chapm\\\\anaconda3\\\\lib\\\\site-packages\\\\matplotlib\\\\pyplot.py'>"
      ]
     },
     "execution_count": 21,
     "metadata": {},
     "output_type": "execute_result"
    },
    {
     "data": {
      "image/png": "[encoded data removed]",
      "text/plain": [
       "<matplotlib.figure.Figure at 0x292b86ce9b0>"
      ]
     },
     "metadata": {},
     "output_type": "display_data"
    }
   ],
   "source": [
    "prediction_region([0.0,0.7,-0.3], orders_delivery['johnny'])"
   ]
  },
  {
   "cell_type": "code",
   "execution_count": 22,
   "metadata": {},
   "outputs": [
    {
     "data": {
      "text/plain": [
       "<module 'matplotlib.pyplot' from 'c:\\\\users\\\\chapm\\\\anaconda3\\\\lib\\\\site-packages\\\\matplotlib\\\\pyplot.py'>"
      ]
     },
     "execution_count": 22,
     "metadata": {},
     "output_type": "execute_result"
    },
    {
     "data": {
      "image/png": "[encoded data removed]",
      "text/plain": [
       "<matplotlib.figure.Figure at 0x292b8728710>"
      ]
     },
     "metadata": {},
     "output_type": "display_data"
    }
   ],
   "source": [
    "# impossible!\n",
    "prediction_region([0.5,0.5,-0.6], orders_delivery['janie'])"
   ]
  },
  {
   "cell_type": "markdown",
   "metadata": {
    "collapsed": true
   },
   "source": [
    "We can do this with adding a hidden layer (and lets make use of a activation function)"
   ]
  },
  {
   "cell_type": "markdown",
   "metadata": {},
   "source": [
    "![img](diagram2.png)"
   ]
  },
  {
   "cell_type": "code",
   "execution_count": 70,
   "metadata": {
    "collapsed": true
   },
   "outputs": [],
   "source": [
    "def activation_relu(x):\n",
    "    # relu activation function\n",
    "    return np.maximum(x, 0)"
   ]
  },
  {
   "cell_type": "code",
   "execution_count": 141,
   "metadata": {},
   "outputs": [
    {
     "data": {
      "text/plain": [
       "array([[ 0.,  0.],\n",
       "       [-2.,  1.],\n",
       "       [ 1., -2.],\n",
       "       [-1., -1.]])"
      ]
     },
     "execution_count": 141,
     "metadata": {},
     "output_type": "execute_result"
    }
   ],
   "source": [
    "layer1 = basic_nnet(scenario, np.array([[-1, 2, -1], \n",
    "          [2, -1, -1]]).T, mode='raw')\n",
    "layer1"
   ]
  },
  {
   "cell_type": "code",
   "execution_count": 142,
   "metadata": {},
   "outputs": [
    {
     "data": {
      "text/plain": [
       "array([[ 0.,  0.],\n",
       "       [ 0.,  1.],\n",
       "       [ 1.,  0.],\n",
       "       [ 0.,  0.]])"
      ]
     },
     "execution_count": 142,
     "metadata": {},
     "output_type": "execute_result"
    }
   ],
   "source": [
    "layer1_relu = activation_relu(layer1)\n",
    "layer1_relu"
   ]
  },
  {
   "cell_type": "code",
   "execution_count": 143,
   "metadata": {},
   "outputs": [
    {
     "data": {
      "text/plain": [
       "array([ 0.,  1.,  1.,  0.])"
      ]
     },
     "execution_count": 143,
     "metadata": {},
     "output_type": "execute_result"
    }
   ],
   "source": [
    "layer2 = basic_nnet(layer1_relu, np.array([1,1]), add_ones=False, mode='raw')\n",
    "layer2"
   ]
  },
  {
   "cell_type": "code",
   "execution_count": 146,
   "metadata": {
    "collapsed": true
   },
   "outputs": [],
   "source": [
    "def prediction_xor(model_func, response):\n",
    "    cdict = {'red':   ((0.0, 0.7, 0.7),\n",
    "                   (1.0, 1.0, 1.0)),\n",
    "         'green': ((0.0, 0.9, 0.9),\n",
    "                   (1.0, 0.9, 0.9)),\n",
    "         'blue':  ((0.0, 1.0, 1.0),\n",
    "                   (1.0, 0.9, 1.0))}\n",
    "    LightRdBu = matplotlib.colors.LinearSegmentedColormap('LightRdBu', cdict)\n",
    "    # do a special plot to view what things look like...\n",
    "    # https://matplotlib.org/examples/pylab_examples/pcolor_demo.html\n",
    "    dd = 0.05\n",
    "    yy, xx = np.mgrid[slice(-1, 1.5 + dd, dd),\n",
    "                    slice(-1, 1.5 + dd, dd)]\n",
    "    \n",
    "    z = np.zeros(xx.shape)\n",
    "    for index, _ in np.ndenumerate(xx):\n",
    "        z[index] = model_func(np.array([[yy[index], xx[index]]]))[0]\n",
    "    #z = (np.array((x*weights[0] + y*weights[1] + weights[2]))>0)*1\n",
    "    # x and y are bounds, so z should be the value *inside* those bounds.\n",
    "    # Therefore, remove the last value from the z array.\n",
    "    z = z[:-1, :-1]    \n",
    "    \n",
    "    plt.pcolor(xx, yy, z, cmap=LightRdBu, vmin=0, vmax=1)\n",
    "    plt.axis([-.1, 1.1, -0.1, 1.1])\n",
    "    plt.title(\"Prediction Region\")\n",
    "    plt.scatter(scenario['is_rain'], scenario['no_car'], c=response, cmap='jet', s=250)\n",
    "    return plt"
   ]
  },
  {
   "cell_type": "code",
   "execution_count": 147,
   "metadata": {
    "collapsed": true
   },
   "outputs": [],
   "source": [
    "# putting it altogether\n",
    "def janie_model(X):\n",
    "    weights1 = np.array([[-1, 2, -1], \n",
    "          [2, -1, -1]]).T\n",
    "    weights2 = np.array([1,1])\n",
    "    \n",
    "    # showing how a neural network scores    \n",
    "    layer1 = basic_nnet(scenario, weights1, mode='raw')    \n",
    "    layer1_relu = activation_relu(layer1)\n",
    "    layer2 = basic_nnet(layer1_relu, np.array([1,1]), add_ones=False, mode='raw')\n",
    "    # return layer2\n",
    "    \n",
    "    # we can also see that it can be simply a composition of functions!    \n",
    "    return basic_nnet(\n",
    "        activation_relu(\n",
    "        # layer 1\n",
    "        (basic_nnet(X, \n",
    "          np.array([[-1, 2, -1], \n",
    "          [2, -1, -1]]).T, mode='raw'))\n",
    "        ), np.array([1,1]), add_ones=False, mode='raw')\n",
    "\n"
   ]
  },
  {
   "cell_type": "code",
   "execution_count": 148,
   "metadata": {},
   "outputs": [
    {
     "data": {
      "text/plain": [
       "<module 'matplotlib.pyplot' from 'c:\\\\users\\\\chapm\\\\anaconda3\\\\lib\\\\site-packages\\\\matplotlib\\\\pyplot.py'>"
      ]
     },
     "execution_count": 148,
     "metadata": {},
     "output_type": "execute_result"
    },
    {
     "data": {
      "image/png": "[encoded data removed]",
      "text/plain": [
       "<matplotlib.figure.Figure at 0x292b9d3bac8>"
      ]
     },
     "metadata": {},
     "output_type": "display_data"
    }
   ],
   "source": [
    "prediction_xor(janie_model, orders_delivery['janie'])"
   ]
  }
 ],
 "metadata": {
  "kernelspec": {
   "display_name": "Python [default]",
   "language": "python",
   "name": "python3"
  },
  "language_info": {
   "codemirror_mode": {
    "name": "ipython",
    "version": 3
   },
   "file_extension": ".py",
   "mimetype": "text/x-python",
   "name": "python",
   "nbconvert_exporter": "python",
   "pygments_lexer": "ipython3",
   "version": "3.5.2"
  }
 },
 "nbformat": 4,
 "nbformat_minor": 2
}
