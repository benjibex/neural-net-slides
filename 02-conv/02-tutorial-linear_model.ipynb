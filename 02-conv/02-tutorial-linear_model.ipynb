{
 "cells": [
  {
   "cell_type": "code",
   "execution_count": 7,
   "metadata": {
    "collapsed": true
   },
   "outputs": [],
   "source": [
    "import tensorflow as tf\n",
    "import numpy as np"
   ]
  },
  {
   "cell_type": "markdown",
   "metadata": {},
   "source": [
    "**Start an interactive session**"
   ]
  },
  {
   "cell_type": "code",
   "execution_count": 8,
   "metadata": {},
   "outputs": [
    {
     "data": {
      "text/plain": [
       "<tensorflow.python.client.session.InteractiveSession at 0x1b5046a2358>"
      ]
     },
     "execution_count": 8,
     "metadata": {},
     "output_type": "execute_result"
    }
   ],
   "source": [
    "tf.InteractiveSession()"
   ]
  },
  {
   "cell_type": "markdown",
   "metadata": {},
   "source": [
    "**Let's write linear regression in TensorFlow with placeholder**"
   ]
  },
  {
   "cell_type": "code",
   "execution_count": 9,
   "metadata": {
    "collapsed": true
   },
   "outputs": [],
   "source": [
    "# Generate some random data\n",
    "m = 0.5\n",
    "b = 2\n",
    "X = np.arange(0,10.5,0.5) # (21,)\n",
    "X = X + np.random.randn(len(X), 1).T # (1,21)\n",
    "Y = m * X + b + (np.random.randn(X.shape[1],1)).T # (1,21)\n",
    "\n",
    "n_samples = X.shape[1]\n",
    "learning_rate = 0.001"
   ]
  },
  {
   "cell_type": "code",
   "execution_count": 10,
   "metadata": {
    "collapsed": true
   },
   "outputs": [],
   "source": [
    "input_x = tf.placeholder(tf.float32, [1, n_samples]) # define the placeholder for input x\n",
    "input_y = tf.placeholder(tf.float32, [1, n_samples]) # define the placeholder for input y\n",
    "# parameters, initialized randomly\n",
    "m = tf.Variable(np.random.random(), name='slope') # create the variable for slope\n",
    "b = tf.Variable(np.random.random()*5 - 2.5, name='intercept') # create the variable for intercept\n",
    "pred = tf.add(tf.multiply(input_x, m), b) # the predicted value\n",
    "cost = tf.reduce_sum(tf.pow(pred-Y, 2))/(2*n_samples) # calculate the loss\n",
    "\n",
    "# define GD optimization operation\n",
    "optimizer = tf.train.GradientDescentOptimizer(learning_rate).minimize(cost) "
   ]
  },
  {
   "cell_type": "code",
   "execution_count": 11,
   "metadata": {},
   "outputs": [
    {
     "name": "stdout",
     "output_type": "stream",
     "text": [
      "iteration 0 ; cost 0.759071\n",
      "iteration 1 ; cost 0.754502\n",
      "iteration 2 ; cost 0.750253\n",
      "iteration 3 ; cost 0.7463\n",
      "iteration 4 ; cost 0.742623\n",
      "iteration 5 ; cost 0.7392\n",
      "iteration 6 ; cost 0.736014\n",
      "iteration 7 ; cost 0.733046\n",
      "iteration 8 ; cost 0.730282\n",
      "iteration 9 ; cost 0.727706\n",
      "iteration 10 ; cost 0.725304\n",
      "iteration 11 ; cost 0.723064\n",
      "iteration 12 ; cost 0.720974\n",
      "iteration 13 ; cost 0.719023\n",
      "iteration 14 ; cost 0.717201\n",
      "iteration 15 ; cost 0.715498\n",
      "iteration 16 ; cost 0.713906\n",
      "iteration 17 ; cost 0.712416\n",
      "iteration 18 ; cost 0.711022\n",
      "iteration 19 ; cost 0.709716\n",
      "iteration 20 ; cost 0.708491\n",
      "iteration 21 ; cost 0.707343\n",
      "iteration 22 ; cost 0.706265\n",
      "iteration 23 ; cost 0.705251\n",
      "iteration 24 ; cost 0.704299\n",
      "iteration 25 ; cost 0.703402\n",
      "iteration 26 ; cost 0.702557\n",
      "iteration 27 ; cost 0.70176\n",
      "iteration 28 ; cost 0.701008\n",
      "iteration 29 ; cost 0.700297\n",
      "iteration 30 ; cost 0.699625\n",
      "iteration 31 ; cost 0.698988\n",
      "iteration 32 ; cost 0.698384\n",
      "iteration 33 ; cost 0.697811\n",
      "iteration 34 ; cost 0.697266\n",
      "iteration 35 ; cost 0.696747\n",
      "iteration 36 ; cost 0.696253\n",
      "iteration 37 ; cost 0.695781\n",
      "iteration 38 ; cost 0.69533\n",
      "iteration 39 ; cost 0.694899\n",
      "iteration 40 ; cost 0.694485\n",
      "iteration 41 ; cost 0.694088\n",
      "iteration 42 ; cost 0.693707\n",
      "iteration 43 ; cost 0.69334\n",
      "iteration 44 ; cost 0.692987\n",
      "iteration 45 ; cost 0.692646\n",
      "iteration 46 ; cost 0.692316\n",
      "iteration 47 ; cost 0.691997\n",
      "iteration 48 ; cost 0.691688\n",
      "iteration 49 ; cost 0.691388\n"
     ]
    }
   ],
   "source": [
    "# operation to initialize all global variables\n",
    "init = tf.global_variables_initializer() \n",
    "\n",
    "# start a new session\n",
    "# perform the actual training\n",
    "training_epochs = 50\n",
    "with tf.Session() as sess: # start a session\n",
    "    sess.run(init) # run the initialization operation\n",
    "\n",
    "    # Fit all training data\n",
    "    for epoch in range(training_epochs):\n",
    "        # run the optimization and cost operation\n",
    "        _,c = sess.run([optimizer, cost], feed_dict={input_x: X, input_y: Y})\n",
    "        print(\"iteration\", epoch, \";\", \"cost\", c)"
   ]
  },
  {
   "cell_type": "markdown",
   "metadata": {},
   "source": [
    "**Linear Regression using Scikit learn**"
   ]
  },
  {
   "cell_type": "code",
   "execution_count": 39,
   "metadata": {},
   "outputs": [
    {
     "name": "stdout",
     "output_type": "stream",
     "text": [
      "X: (14000, 100), y: (14000,)\n"
     ]
    }
   ],
   "source": [
    "from sklearn.datasets import make_regression\n",
    "from sklearn.model_selection import train_test_split\n",
    "from sklearn.utils import shuffle\n",
    "\n",
    "# create dataset\n",
    "X_all, y_all = make_regression(n_samples=20000)\n",
    "X_train, X_valid, y_train, y_valid = train_test_split(X_all, y_all, test_size=0.3)\n",
    "print(\"X: {}, y: {}\".format(X_train.shape, y_train.shape))\n",
    "\n",
    "# starting params\n",
    "EPOCHS = 10\n",
    "BATCH_SIZE = 128"
   ]
  },
  {
   "cell_type": "code",
   "execution_count": 73,
   "metadata": {
    "collapsed": true
   },
   "outputs": [],
   "source": [
    "def my_linear_model(x):\n",
    "    \"\"\"\n",
    "    This function will define our linear regression model\n",
    "    \"\"\"\n",
    "    # input = 100, Output = 1\n",
    "    mu = 0\n",
    "    sigma = 0.1\n",
    "    \n",
    "    # layer 1, input= 100, output = 1\n",
    "    layer1_w = tf.Variable(tf.random_normal(shape=(100, 1), mean=mu, stddev=sigma))\n",
    "    layer1_b = tf.Variable(tf.zeros(1))\n",
    "    layer1 = tf.matmul(x, layer1_w) + layer1_b\n",
    "    \n",
    "    # activation...none? we have a linear model!\n",
    "    return layer1"
   ]
  },
  {
   "cell_type": "code",
   "execution_count": 74,
   "metadata": {},
   "outputs": [],
   "source": [
    "x = tf.placeholder(tf.float32, (None, 100))\n",
    "y = tf.placeholder(tf.float32, (None))\n",
    "linmodel = my_linear_model(x)\n",
    "cost = tf.reduce_mean(tf.square(linmodel - y))\n",
    "\n",
    "def evaluate(X_data, y_data):\n",
    "    num_examples = len(X_data)\n",
    "    total_mse = 0\n",
    "    sess = tf.get_default_session()\n",
    "    for offset in range(0, num_examples, BATCH_SIZE):\n",
    "        batch_x, batch_y = X_data[offset:offset+BATCH_SIZE], y_data[offset:offset+BATCH_SIZE]\n",
    "        mse_sample = sess.run(cost, feed_dict={x: batch_x, y: batch_y})\n",
    "        total_mse += (mse_sample * len(batch_x))\n",
    "    return total_mse / num_examples"
   ]
  },
  {
   "cell_type": "code",
   "execution_count": 75,
   "metadata": {},
   "outputs": [],
   "source": [
    "a = tf.Variable(0.1)\n",
    "optimizer = tf.train.GradientDescentOptimizer(a)\n",
    "training_operation = optimizer.minimize(cost)"
   ]
  },
  {
   "cell_type": "code",
   "execution_count": 76,
   "metadata": {},
   "outputs": [
    {
     "name": "stdout",
     "output_type": "stream",
     "text": [
      "Training...\n",
      "\n",
      "EPOCH 1 ...\n",
      "Training MSE = 29347.747\n",
      "Validation MSE = 28698.730\n",
      "\n",
      "EPOCH 2 ...\n",
      "Training MSE = 29354.359\n",
      "Validation MSE = 28688.053\n",
      "\n",
      "EPOCH 3 ...\n",
      "Training MSE = 29348.420\n",
      "Validation MSE = 28703.494\n",
      "\n",
      "EPOCH 4 ...\n",
      "Training MSE = 29359.297\n",
      "Validation MSE = 28712.287\n",
      "\n",
      "EPOCH 5 ...\n",
      "Training MSE = 29451.468\n",
      "Validation MSE = 28764.001\n",
      "\n",
      "EPOCH 6 ...\n",
      "Training MSE = 29419.588\n",
      "Validation MSE = 28794.701\n",
      "\n",
      "EPOCH 7 ...\n",
      "Training MSE = 29510.908\n",
      "Validation MSE = 28845.447\n",
      "\n",
      "EPOCH 8 ...\n",
      "Training MSE = 29359.445\n",
      "Validation MSE = 28688.323\n",
      "\n",
      "EPOCH 9 ...\n",
      "Training MSE = 29318.812\n",
      "Validation MSE = 28666.335\n",
      "\n",
      "EPOCH 10 ...\n",
      "Training MSE = 29449.986\n",
      "Validation MSE = 28828.505\n",
      "\n",
      "Model saved\n"
     ]
    }
   ],
   "source": [
    "# run the model in tf.Session\n",
    "with tf.Session() as sess:\n",
    "    sess.run(tf.global_variables_initializer())\n",
    "    num_examples = len(X_train)\n",
    "    \n",
    "    print(\"Training...\")\n",
    "    print()\n",
    "    for i in range(EPOCHS):\n",
    "        X_train, y_train = shuffle(X_train, y_train)\n",
    "        for offset in range(0, num_examples, BATCH_SIZE):\n",
    "            end = offset + BATCH_SIZE\n",
    "            batch_x, batch_y = X_train[offset:end], y_train[offset:end]\n",
    "            sess.run(training_operation, feed_dict={x: batch_x, y: batch_y})\n",
    "            \n",
    "        training_mse = evaluate(X_train, y_train)\n",
    "        validation_mse = evaluate(X_valid, y_valid)\n",
    "        print(\"EPOCH {} ...\".format(i+1))\n",
    "        print(\"Training MSE = {:.3f}\".format(training_mse))\n",
    "        print(\"Validation MSE = {:.3f}\".format(validation_mse))\n",
    "        print()\n"
   ]
  }
 ],
 "metadata": {
  "kernelspec": {
   "display_name": "Python [default]",
   "language": "python",
   "name": "python3"
  },
  "language_info": {
   "codemirror_mode": {
    "name": "ipython",
    "version": 3
   },
   "file_extension": ".py",
   "mimetype": "text/x-python",
   "name": "python",
   "nbconvert_exporter": "python",
   "pygments_lexer": "ipython3",
   "version": "3.5.2"
  }
 },
 "nbformat": 4,
 "nbformat_minor": 1
}
