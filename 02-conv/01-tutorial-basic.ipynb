{
 "cells": [
  {
   "cell_type": "code",
   "execution_count": 1,
   "metadata": {
    "collapsed": true
   },
   "outputs": [],
   "source": [
    "import tensorflow as tf\n",
    "import numpy as np"
   ]
  },
  {
   "cell_type": "markdown",
   "metadata": {},
   "source": [
    "**Start an interactive session**"
   ]
  },
  {
   "cell_type": "code",
   "execution_count": 2,
   "metadata": {},
   "outputs": [
    {
     "data": {
      "text/plain": [
       "<tensorflow.python.client.session.InteractiveSession at 0x26b7d85eb38>"
      ]
     },
     "execution_count": 2,
     "metadata": {},
     "output_type": "execute_result"
    }
   ],
   "source": [
    "tf.InteractiveSession()"
   ]
  },
  {
   "cell_type": "markdown",
   "metadata": {},
   "source": [
    "**Create tensors**"
   ]
  },
  {
   "cell_type": "code",
   "execution_count": 3,
   "metadata": {},
   "outputs": [
    {
     "name": "stdout",
     "output_type": "stream",
     "text": [
      "Tensor(\"Const:0\", shape=(), dtype=float32) 3.0\n",
      "Tensor(\"Const_1:0\", shape=(3,), dtype=float32) [ 0.  1.  2.]\n",
      "Tensor(\"x/read:0\", shape=(5, 4, 3), dtype=float32)\n"
     ]
    }
   ],
   "source": [
    "x1 = tf.constant(3.0, dtype=tf.float32)\n",
    "x2 = tf.constant(np.arange(3.0), dtype=tf.float32)\n",
    "x3 = tf.Variable(tf.random_normal([5, 4, 3]), name=\"x\")\n",
    "\n",
    "print(x1, x1.eval())\n",
    "print(x2, x2.eval())\n",
    "print(x3)"
   ]
  },
  {
   "cell_type": "markdown",
   "metadata": {},
   "source": [
    "** Exercise: **\n",
    "1. What \"eval\" does?\n",
    "2. What if I do not create the interactive session, can I still evaluate tensors?\n",
    "3. Try to run \"print x3.eval()\", why x3 cannot be evaluated at this stage?"
   ]
  },
  {
   "cell_type": "markdown",
   "metadata": {},
   "source": [
    "**Perform calculations**"
   ]
  },
  {
   "cell_type": "code",
   "execution_count": 4,
   "metadata": {},
   "outputs": [
    {
     "name": "stdout",
     "output_type": "stream",
     "text": [
      "[ 3.  4.  5.]\n",
      "[ 0.  3.  6.]\n",
      "[ 3.  2.  1.]\n",
      "[ 0.          0.33333334  0.66666669]\n"
     ]
    }
   ],
   "source": [
    "a1 = tf.add(x1,x2)\n",
    "a2 = tf.multiply(x1,x2)\n",
    "a3 = tf.subtract(x1,x2)\n",
    "a4 = tf.divide(x2,x1)\n",
    "\n",
    "print(a1.eval())\n",
    "print(a2.eval())\n",
    "print(a3.eval())\n",
    "print(a4.eval())"
   ]
  },
  {
   "cell_type": "markdown",
   "metadata": {},
   "source": [
    "**More math functions**"
   ]
  },
  {
   "cell_type": "code",
   "execution_count": 5,
   "metadata": {},
   "outputs": [
    {
     "name": "stdout",
     "output_type": "stream",
     "text": [
      "[ 0.  1.  4.]\n",
      "[ 0.  1.  4.]\n",
      "[ 1.          2.71828175  7.38905621]\n",
      "[ 1.          0.54030228 -0.41614684]\n"
     ]
    }
   ],
   "source": [
    "a5 = tf.square(x2)\n",
    "a6 = tf.pow(x2, 2)\n",
    "a7 = tf.exp(x2)\n",
    "a8 = tf.cos(x2)\n",
    "\n",
    "print(a5.eval())\n",
    "print(a6.eval())\n",
    "print(a7.eval())\n",
    "print(a8.eval())"
   ]
  },
  {
   "cell_type": "markdown",
   "metadata": {},
   "source": [
    "**Deal with matrices**"
   ]
  },
  {
   "cell_type": "code",
   "execution_count": 6,
   "metadata": {},
   "outputs": [
    {
     "name": "stdout",
     "output_type": "stream",
     "text": [
      "(4, 3)\n",
      "(3, 4)\n",
      "(3, 4) [[-0.18618293  1.1549269   2.58715439 -0.55028504]\n",
      " [ 0.02782409  0.23713699  0.20510338 -0.41397518]\n",
      " [-0.20827243 -0.24975823  0.847987   -0.53563541]]\n",
      "(4, 4) [[ 0.37944287  0.3089734  -0.04486424  0.48277754]\n",
      " [-1.05541635 -0.88347697 -0.37227154 -1.56395483]\n",
      " [-3.61655402 -2.9084084  -0.2199347  -4.87001753]\n",
      " [ 1.71806717  0.72240251 -0.29762328  1.9507823 ]]\n"
     ]
    }
   ],
   "source": [
    "x1 = tf.constant(np.random.randn(4,3), tf.float32) # create a matrix of shape (4,3)\n",
    "x2 = tf.constant(np.random.randn(3,4), tf.float32) # create a matrix of shape (3,4)\n",
    "\n",
    "print(x1.get_shape())\n",
    "print(x2.get_shape())\n",
    "\n",
    "a1 = tf.transpose(x1) # transpose the matrix\n",
    "a2 = tf.matmul(x1, x2) # perform the multiplication\n",
    "\n",
    "print(a1.get_shape(), a1.eval())\n",
    "print(a2.get_shape(), a2.eval())"
   ]
  },
  {
   "cell_type": "markdown",
   "metadata": {},
   "source": [
    "For more math operations, please refer to https://www.tensorflow.org/api_guides/python/math_ops"
   ]
  }
 ],
 "metadata": {
  "kernelspec": {
   "display_name": "Python [default]",
   "language": "python",
   "name": "python3"
  },
  "language_info": {
   "codemirror_mode": {
    "name": "ipython",
    "version": 3
   },
   "file_extension": ".py",
   "mimetype": "text/x-python",
   "name": "python",
   "nbconvert_exporter": "python",
   "pygments_lexer": "ipython3",
   "version": "3.5.2"
  }
 },
 "nbformat": 4,
 "nbformat_minor": 1
}
