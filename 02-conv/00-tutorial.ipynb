{
 "cells": [
  {
   "cell_type": "code",
   "execution_count": 1,
   "metadata": {
    "collapsed": true
   },
   "outputs": [],
   "source": [
    "import tensorflow as tf\n",
    "import numpy as np"
   ]
  },
  {
   "cell_type": "markdown",
   "metadata": {},
   "source": [
    "**Start an interactive session**"
   ]
  },
  {
   "cell_type": "code",
   "execution_count": 2,
   "metadata": {},
   "outputs": [
    {
     "data": {
      "text/plain": [
       "<tensorflow.python.client.session.InteractiveSession at 0x26b7d85eb38>"
      ]
     },
     "execution_count": 2,
     "metadata": {},
     "output_type": "execute_result"
    }
   ],
   "source": [
    "tf.InteractiveSession()"
   ]
  },
  {
   "cell_type": "markdown",
   "metadata": {},
   "source": [
    "**Create tensors**"
   ]
  },
  {
   "cell_type": "code",
   "execution_count": 3,
   "metadata": {},
   "outputs": [
    {
     "name": "stdout",
     "output_type": "stream",
     "text": [
      "Tensor(\"Const:0\", shape=(), dtype=float32) 3.0\n",
      "Tensor(\"Const_1:0\", shape=(3,), dtype=float32) [ 0.  1.  2.]\n",
      "Tensor(\"x/read:0\", shape=(5, 4, 3), dtype=float32)\n"
     ]
    }
   ],
   "source": [
    "x1 = tf.constant(3.0, dtype=tf.float32)\n",
    "x2 = tf.constant(np.arange(3.0), dtype=tf.float32)\n",
    "x3 = tf.Variable(tf.random_normal([5, 4, 3]), name=\"x\")\n",
    "\n",
    "print(x1, x1.eval())\n",
    "print(x2, x2.eval())\n",
    "print(x3)"
   ]
  },
  {
   "cell_type": "markdown",
   "metadata": {},
   "source": [
    "** Exercise: **\n",
    "1. What \"eval\" does?\n",
    "2. What if I do not create the interactive session, can I still evaluate tensors?\n",
    "3. Try to run \"print x3.eval()\", why x3 cannot be evaluated at this stage?"
   ]
  },
  {
   "cell_type": "markdown",
   "metadata": {},
   "source": [
    "**Perform calculations**"
   ]
  },
  {
   "cell_type": "code",
   "execution_count": 4,
   "metadata": {},
   "outputs": [
    {
     "name": "stdout",
     "output_type": "stream",
     "text": [
      "[ 3.  4.  5.]\n",
      "[ 0.  3.  6.]\n",
      "[ 3.  2.  1.]\n",
      "[ 0.          0.33333334  0.66666669]\n"
     ]
    }
   ],
   "source": [
    "a1 = tf.add(x1,x2)\n",
    "a2 = tf.multiply(x1,x2)\n",
    "a3 = tf.subtract(x1,x2)\n",
    "a4 = tf.divide(x2,x1)\n",
    "\n",
    "print(a1.eval())\n",
    "print(a2.eval())\n",
    "print(a3.eval())\n",
    "print(a4.eval())"
   ]
  },
  {
   "cell_type": "markdown",
   "metadata": {},
   "source": [
    "**More math functions**"
   ]
  },
  {
   "cell_type": "code",
   "execution_count": 5,
   "metadata": {},
   "outputs": [
    {
     "name": "stdout",
     "output_type": "stream",
     "text": [
      "[ 0.  1.  4.]\n",
      "[ 0.  1.  4.]\n",
      "[ 1.          2.71828175  7.38905621]\n",
      "[ 1.          0.54030228 -0.41614684]\n"
     ]
    }
   ],
   "source": [
    "a5 = tf.square(x2)\n",
    "a6 = tf.pow(x2, 2)\n",
    "a7 = tf.exp(x2)\n",
    "a8 = tf.cos(x2)\n",
    "\n",
    "print(a5.eval())\n",
    "print(a6.eval())\n",
    "print(a7.eval())\n",
    "print(a8.eval())"
   ]
  },
  {
   "cell_type": "markdown",
   "metadata": {},
   "source": [
    "**Deal with matrices**"
   ]
  },
  {
   "cell_type": "code",
   "execution_count": 6,
   "metadata": {},
   "outputs": [
    {
     "name": "stdout",
     "output_type": "stream",
     "text": [
      "(4, 3)\n",
      "(3, 4)\n",
      "(3, 4) [[-0.18618293  1.1549269   2.58715439 -0.55028504]\n",
      " [ 0.02782409  0.23713699  0.20510338 -0.41397518]\n",
      " [-0.20827243 -0.24975823  0.847987   -0.53563541]]\n",
      "(4, 4) [[ 0.37944287  0.3089734  -0.04486424  0.48277754]\n",
      " [-1.05541635 -0.88347697 -0.37227154 -1.56395483]\n",
      " [-3.61655402 -2.9084084  -0.2199347  -4.87001753]\n",
      " [ 1.71806717  0.72240251 -0.29762328  1.9507823 ]]\n"
     ]
    }
   ],
   "source": [
    "x1 = tf.constant(np.random.randn(4,3), tf.float32) # create a matrix of shape (4,3)\n",
    "x2 = tf.constant(np.random.randn(3,4), tf.float32) # create a matrix of shape (3,4)\n",
    "\n",
    "print(x1.get_shape())\n",
    "print(x2.get_shape())\n",
    "\n",
    "a1 = tf.transpose(x1) # transpose the matrix\n",
    "a2 = tf.matmul(x1, x2) # perform the multiplication\n",
    "\n",
    "print(a1.get_shape(), a1.eval())\n",
    "print(a2.get_shape(), a2.eval())"
   ]
  },
  {
   "cell_type": "markdown",
   "metadata": {},
   "source": [
    "For more math operations, please refer to https://www.tensorflow.org/api_guides/python/math_ops"
   ]
  },
  {
   "cell_type": "markdown",
   "metadata": {},
   "source": [
    "**Let's write linear regression in TensorFlow with placeholder**"
   ]
  },
  {
   "cell_type": "code",
   "execution_count": 7,
   "metadata": {
    "collapsed": true
   },
   "outputs": [],
   "source": [
    "# Generate some random data\n",
    "m = 0.5\n",
    "b = 2\n",
    "X = np.arange(0,10.5,0.5) # (21,)\n",
    "X = X + np.random.randn(len(X), 1).T # (1,21)\n",
    "Y = m * X + b + (np.random.randn(X.shape[1],1)).T # (1,21)\n",
    "\n",
    "n_samples = X.shape[1]\n",
    "learning_rate = 0.001"
   ]
  },
  {
   "cell_type": "code",
   "execution_count": 8,
   "metadata": {
    "collapsed": true
   },
   "outputs": [],
   "source": [
    "input_x = tf.placeholder(tf.float32, [1, n_samples]) # define the placeholder for input x\n",
    "input_y = tf.placeholder(tf.float32, [1, n_samples]) # define the placeholder for input y\n",
    "# parameters, initialized randomly\n",
    "m = tf.Variable(np.random.random(), name='slope') # create the variable for slope\n",
    "b = tf.Variable(np.random.random()*5 - 2.5, name='intercept') # create the variable for intercept\n",
    "pred = tf.add(tf.multiply(input_x, m), b) # the predicted value\n",
    "cost = tf.reduce_sum(tf.pow(pred-Y, 2))/(2*n_samples) # calculate the loss\n",
    "\n",
    "# define GD optimization operation\n",
    "optimizer = tf.train.GradientDescentOptimizer(learning_rate).minimize(cost) "
   ]
  },
  {
   "cell_type": "code",
   "execution_count": 9,
   "metadata": {},
   "outputs": [
    {
     "name": "stdout",
     "output_type": "stream",
     "text": [
      "iteration 0 ; cost 24.1632\n",
      "iteration 1 ; cost 22.5957\n",
      "iteration 2 ; cost 21.1441\n",
      "iteration 3 ; cost 19.7998\n",
      "iteration 4 ; cost 18.5549\n",
      "iteration 5 ; cost 17.4021\n",
      "iteration 6 ; cost 16.3344\n",
      "iteration 7 ; cost 15.3456\n",
      "iteration 8 ; cost 14.43\n",
      "iteration 9 ; cost 13.5819\n",
      "iteration 10 ; cost 12.7966\n",
      "iteration 11 ; cost 12.0692\n",
      "iteration 12 ; cost 11.3956\n",
      "iteration 13 ; cost 10.7717\n",
      "iteration 14 ; cost 10.1938\n",
      "iteration 15 ; cost 9.65866\n",
      "iteration 16 ; cost 9.16299\n",
      "iteration 17 ; cost 8.70389\n",
      "iteration 18 ; cost 8.27866\n",
      "iteration 19 ; cost 7.8848\n",
      "iteration 20 ; cost 7.51997\n",
      "iteration 21 ; cost 7.18204\n",
      "iteration 22 ; cost 6.86901\n",
      "iteration 23 ; cost 6.57904\n",
      "iteration 24 ; cost 6.31043\n",
      "iteration 25 ; cost 6.06158\n",
      "iteration 26 ; cost 5.83105\n",
      "iteration 27 ; cost 5.61747\n",
      "iteration 28 ; cost 5.41959\n",
      "iteration 29 ; cost 5.23625\n",
      "iteration 30 ; cost 5.06637\n",
      "iteration 31 ; cost 4.90895\n",
      "iteration 32 ; cost 4.76308\n",
      "iteration 33 ; cost 4.6279\n",
      "iteration 34 ; cost 4.50261\n",
      "iteration 35 ; cost 4.3865\n",
      "iteration 36 ; cost 4.27887\n",
      "iteration 37 ; cost 4.17909\n",
      "iteration 38 ; cost 4.0866\n",
      "iteration 39 ; cost 4.00085\n",
      "iteration 40 ; cost 3.92133\n",
      "iteration 41 ; cost 3.8476\n",
      "iteration 42 ; cost 3.77921\n",
      "iteration 43 ; cost 3.71578\n",
      "iteration 44 ; cost 3.65694\n",
      "iteration 45 ; cost 3.60235\n",
      "iteration 46 ; cost 3.55169\n",
      "iteration 47 ; cost 3.50468\n",
      "iteration 48 ; cost 3.46104\n",
      "iteration 49 ; cost 3.42053\n"
     ]
    }
   ],
   "source": [
    "# operation to initialize all global variables\n",
    "init = tf.global_variables_initializer() \n",
    "\n",
    "# start a new session\n",
    "# perform the actual training\n",
    "training_epochs = 50\n",
    "with tf.Session() as sess: # start a session\n",
    "    sess.run(init) # run the initialization operation\n",
    "\n",
    "    # Fit all training data\n",
    "    for epoch in range(training_epochs):\n",
    "        # run the optimization and cost operation\n",
    "        _,c = sess.run([optimizer, cost], feed_dict={input_x: X, input_y: Y})\n",
    "        print(\"iteration\", epoch, \";\", \"cost\", c)"
   ]
  },
  {
   "cell_type": "markdown",
   "metadata": {},
   "source": [
    "**Some basic convolutional neural network operations**"
   ]
  },
  {
   "cell_type": "code",
   "execution_count": 10,
   "metadata": {},
   "outputs": [
    {
     "name": "stdout",
     "output_type": "stream",
     "text": [
      "Successfully downloaded train-images-idx3-ubyte.gz 9912422 bytes.\n",
      "Extracting data/mnist\\train-images-idx3-ubyte.gz\n",
      "Successfully downloaded train-labels-idx1-ubyte.gz 28881 bytes.\n",
      "Extracting data/mnist\\train-labels-idx1-ubyte.gz\n",
      "Successfully downloaded t10k-images-idx3-ubyte.gz 1648877 bytes.\n",
      "Extracting data/mnist\\t10k-images-idx3-ubyte.gz\n",
      "Successfully downloaded t10k-labels-idx1-ubyte.gz 4542 bytes.\n",
      "Extracting data/mnist\\t10k-labels-idx1-ubyte.gz\n"
     ]
    }
   ],
   "source": [
    "# Start with loading MNIST Dataset\n",
    "from tensorflow.examples.tutorials.mnist import input_data\n",
    "mnist = input_data.read_data_sets(\"data/mnist\", one_hot=True)\n",
    "n_input = 28*28                    # MNIST image feature size\n",
    "\n",
    "# Let's pick the first several data points for illustration\n",
    "batch_size = 64\n",
    "batch_x, batch_y = mnist.train.next_batch(batch_size) # get 64 data points"
   ]
  },
  {
   "cell_type": "code",
   "execution_count": 11,
   "metadata": {
    "collapsed": true
   },
   "outputs": [],
   "source": [
    "# Define placeholders for the input\n",
    "# tensor shape as (?, 784), set the first dimension to be unknown, \n",
    "# as in actual training, batch size is sometimes unknown until runtime\n",
    "x = tf.placeholder(tf.float32, [None, n_input]) \n",
    "x_reshape = tf.reshape(x, shape=[-1, 28, 28, 1]) # reshape to (?, 28, 28, 1)\n",
    "\n",
    "# Define convolution kernel of shape (5,5,1,32)\n",
    "cw = tf.Variable(tf.random_normal([5,5,1,32]), name='convolution_weight')\n",
    "\n",
    "# a convolution operation\n",
    "conv = tf.nn.conv2d(x_reshape, cw, strides=[1, 2, 2, 1], padding='SAME')\n",
    "# a pooling operation\n",
    "pool = tf.nn.max_pool(conv, ksize=[1, 2, 2, 1], strides=[1, 2, 2, 1], padding='SAME')"
   ]
  },
  {
   "cell_type": "code",
   "execution_count": 12,
   "metadata": {},
   "outputs": [
    {
     "name": "stdout",
     "output_type": "stream",
     "text": [
      "(?, 14, 14, 32) (?, 7, 7, 32)\n",
      "(64, 14, 14, 32) (64, 7, 7, 32)\n"
     ]
    }
   ],
   "source": [
    "init = tf.global_variables_initializer()\n",
    "\n",
    "with tf.Session() as sess: # start a session\n",
    "    sess.run(init)\n",
    "    conv_result, pool_result = sess.run([conv, pool], feed_dict={x: batch_x})\n",
    "    print(conv.get_shape(), pool.get_shape())\n",
    "    print(conv_result.shape, pool_result.shape)"
   ]
  }
 ],
 "metadata": {
  "kernelspec": {
   "display_name": "Python [default]",
   "language": "python",
   "name": "python3"
  },
  "language_info": {
   "codemirror_mode": {
    "name": "ipython",
    "version": 3
   },
   "file_extension": ".py",
   "mimetype": "text/x-python",
   "name": "python",
   "nbconvert_exporter": "python",
   "pygments_lexer": "ipython3",
   "version": "3.5.2"
  }
 },
 "nbformat": 4,
 "nbformat_minor": 1
}
